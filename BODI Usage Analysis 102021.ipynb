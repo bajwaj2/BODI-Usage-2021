{
 "cells": [
  {
   "cell_type": "code",
   "execution_count": 103,
   "metadata": {},
   "outputs": [],
   "source": [
    "import pandas as pd"
   ]
  },
  {
   "cell_type": "code",
   "execution_count": 134,
   "metadata": {},
   "outputs": [
    {
     "data": {
      "text/html": [
       "<div>\n",
       "<style scoped>\n",
       "    .dataframe tbody tr th:only-of-type {\n",
       "        vertical-align: middle;\n",
       "    }\n",
       "\n",
       "    .dataframe tbody tr th {\n",
       "        vertical-align: top;\n",
       "    }\n",
       "\n",
       "    .dataframe thead th {\n",
       "        text-align: right;\n",
       "    }\n",
       "</style>\n",
       "<table border=\"1\" class=\"dataframe\">\n",
       "  <thead>\n",
       "    <tr style=\"text-align: right;\">\n",
       "      <th></th>\n",
       "      <th>Project Name</th>\n",
       "      <th>Workbook Name</th>\n",
       "      <th>DEPARTMENT</th>\n",
       "      <th>Number of Users</th>\n",
       "      <th>Number of View Events</th>\n",
       "      <th>Min. Days Since Action</th>\n",
       "    </tr>\n",
       "  </thead>\n",
       "  <tbody>\n",
       "    <tr>\n",
       "      <th>0</th>\n",
       "      <td>BODI CYGNUS</td>\n",
       "      <td>_BODI Menu Cygnus</td>\n",
       "      <td>GCHDI</td>\n",
       "      <td>3</td>\n",
       "      <td>3</td>\n",
       "      <td>44</td>\n",
       "    </tr>\n",
       "    <tr>\n",
       "      <th>1</th>\n",
       "      <td>BODI CYGNUS</td>\n",
       "      <td>_BODI Menu Cygnus</td>\n",
       "      <td>GCHDIL7A</td>\n",
       "      <td>1</td>\n",
       "      <td>3</td>\n",
       "      <td>85</td>\n",
       "    </tr>\n",
       "    <tr>\n",
       "      <th>2</th>\n",
       "      <td>BODI CYGNUS</td>\n",
       "      <td>_BODI Menu Cygnus</td>\n",
       "      <td>MMDPA</td>\n",
       "      <td>1</td>\n",
       "      <td>2</td>\n",
       "      <td>262</td>\n",
       "    </tr>\n",
       "    <tr>\n",
       "      <th>3</th>\n",
       "      <td>BODI CYGNUS</td>\n",
       "      <td>FDMI Study Sample Tracker</td>\n",
       "      <td>GCHDI</td>\n",
       "      <td>3</td>\n",
       "      <td>21</td>\n",
       "      <td>85</td>\n",
       "    </tr>\n",
       "    <tr>\n",
       "      <th>4</th>\n",
       "      <td>BODI CYGNUS</td>\n",
       "      <td>FDMI Study Sample Tracker</td>\n",
       "      <td>MMDPA</td>\n",
       "      <td>1</td>\n",
       "      <td>3</td>\n",
       "      <td>262</td>\n",
       "    </tr>\n",
       "  </tbody>\n",
       "</table>\n",
       "</div>"
      ],
      "text/plain": [
       "  Project Name              Workbook Name DEPARTMENT  Number of Users  \\\n",
       "0  BODI CYGNUS          _BODI Menu Cygnus      GCHDI                3   \n",
       "1  BODI CYGNUS          _BODI Menu Cygnus   GCHDIL7A                1   \n",
       "2  BODI CYGNUS          _BODI Menu Cygnus      MMDPA                1   \n",
       "3  BODI CYGNUS  FDMI Study Sample Tracker      GCHDI                3   \n",
       "4  BODI CYGNUS  FDMI Study Sample Tracker      MMDPA                1   \n",
       "\n",
       "  Number of View Events  Min. Days Since Action  \n",
       "0                     3                      44  \n",
       "1                     3                      85  \n",
       "2                     2                     262  \n",
       "3                    21                      85  \n",
       "4                     3                     262  "
      ]
     },
     "execution_count": 134,
     "metadata": {},
     "output_type": "execute_result"
    }
   ],
   "source": [
    "usage_file = \"C:/Users/bajwaj2/Desktop/usage_stats_01012021_10312021.csv\"\n",
    "\n",
    "usage_df = pd.read_csv(usage_file)\n",
    "\n",
    "usage_df.head()"
   ]
  },
  {
   "cell_type": "code",
   "execution_count": 135,
   "metadata": {},
   "outputs": [
    {
     "data": {
      "text/plain": [
       "982"
      ]
     },
     "execution_count": 135,
     "metadata": {},
     "output_type": "execute_result"
    }
   ],
   "source": [
    "# Data Exploration\n",
    "\n",
    "len(usage_df)"
   ]
  },
  {
   "cell_type": "code",
   "execution_count": 136,
   "metadata": {},
   "outputs": [
    {
     "name": "stdout",
     "output_type": "stream",
     "text": [
      "<class 'pandas.core.frame.DataFrame'>\n",
      "RangeIndex: 982 entries, 0 to 981\n",
      "Data columns (total 6 columns):\n",
      " #   Column                  Non-Null Count  Dtype \n",
      "---  ------                  --------------  ----- \n",
      " 0   Project Name            982 non-null    object\n",
      " 1   Workbook Name           982 non-null    object\n",
      " 2   DEPARTMENT              968 non-null    object\n",
      " 3   Number of Users         982 non-null    int64 \n",
      " 4   Number of View Events   982 non-null    object\n",
      " 5   Min. Days Since Action  982 non-null    int64 \n",
      "dtypes: int64(2), object(4)\n",
      "memory usage: 46.2+ KB\n",
      "None\n"
     ]
    }
   ],
   "source": [
    "# Data Exploration\n",
    "\n",
    "print(usage_df.info())"
   ]
  },
  {
   "cell_type": "code",
   "execution_count": 137,
   "metadata": {},
   "outputs": [
    {
     "data": {
      "text/plain": [
       "array(['BODI CYGNUS', 'BODI MDH Backup', 'BODI NEW', 'BODI PROD',\n",
       "       'BODI Project', 'BODI_TESTS', 'BODI_UAT', 'DEVSCI-INFORMATICS',\n",
       "       'FMI Study Trackers', 'FMI Study Trackers Business', 'Grand Total'],\n",
       "      dtype=object)"
      ]
     },
     "execution_count": 137,
     "metadata": {},
     "output_type": "execute_result"
    }
   ],
   "source": [
    "# Data Exploration\n",
    "\n",
    "usage_df['Project Name'].unique()"
   ]
  },
  {
   "cell_type": "code",
   "execution_count": 138,
   "metadata": {},
   "outputs": [
    {
     "data": {
      "text/plain": [
       "622"
      ]
     },
     "execution_count": 138,
     "metadata": {},
     "output_type": "execute_result"
    }
   ],
   "source": [
    "# Data Exploration\n",
    "\n",
    "BODI_PROD_usage_data = usage_df.loc[usage_df[\"Project Name\"] == \"BODI PROD\"]\n",
    "len(BODI_PROD_usage_data)"
   ]
  },
  {
   "cell_type": "code",
   "execution_count": 139,
   "metadata": {},
   "outputs": [
    {
     "data": {
      "text/html": [
       "<div>\n",
       "<style scoped>\n",
       "    .dataframe tbody tr th:only-of-type {\n",
       "        vertical-align: middle;\n",
       "    }\n",
       "\n",
       "    .dataframe tbody tr th {\n",
       "        vertical-align: top;\n",
       "    }\n",
       "\n",
       "    .dataframe thead th {\n",
       "        text-align: right;\n",
       "    }\n",
       "</style>\n",
       "<table border=\"1\" class=\"dataframe\">\n",
       "  <thead>\n",
       "    <tr style=\"text-align: right;\">\n",
       "      <th></th>\n",
       "      <th>Project Name</th>\n",
       "      <th>Workbook Name</th>\n",
       "      <th>DEPARTMENT</th>\n",
       "      <th>Number of Users</th>\n",
       "      <th>Number of View Events</th>\n",
       "      <th>Min. Days Since Action</th>\n",
       "    </tr>\n",
       "  </thead>\n",
       "  <tbody>\n",
       "    <tr>\n",
       "      <th>221</th>\n",
       "      <td>BODI PROD</td>\n",
       "      <td>aCLL GO39902 Study Dashboard</td>\n",
       "      <td>GCFDBA7A</td>\n",
       "      <td>1</td>\n",
       "      <td>1</td>\n",
       "      <td>273</td>\n",
       "    </tr>\n",
       "    <tr>\n",
       "      <th>222</th>\n",
       "      <td>BODI PROD</td>\n",
       "      <td>aCLL GO39902 Study Dashboard</td>\n",
       "      <td>GCHD</td>\n",
       "      <td>2</td>\n",
       "      <td>4</td>\n",
       "      <td>66</td>\n",
       "    </tr>\n",
       "    <tr>\n",
       "      <th>223</th>\n",
       "      <td>BODI PROD</td>\n",
       "      <td>aCLL GO39902 Study Dashboard</td>\n",
       "      <td>GCHDC</td>\n",
       "      <td>1</td>\n",
       "      <td>4</td>\n",
       "      <td>31</td>\n",
       "    </tr>\n",
       "    <tr>\n",
       "      <th>224</th>\n",
       "      <td>BODI PROD</td>\n",
       "      <td>aCLL GO39902 Study Dashboard</td>\n",
       "      <td>GCHDI</td>\n",
       "      <td>1</td>\n",
       "      <td>17</td>\n",
       "      <td>36</td>\n",
       "    </tr>\n",
       "    <tr>\n",
       "      <th>225</th>\n",
       "      <td>BODI PROD</td>\n",
       "      <td>aCLL GO39902 Study Dashboard</td>\n",
       "      <td>GCHDIL</td>\n",
       "      <td>1</td>\n",
       "      <td>1</td>\n",
       "      <td>227</td>\n",
       "    </tr>\n",
       "  </tbody>\n",
       "</table>\n",
       "</div>"
      ],
      "text/plain": [
       "    Project Name                 Workbook Name DEPARTMENT  Number of Users  \\\n",
       "221    BODI PROD  aCLL GO39902 Study Dashboard   GCFDBA7A                1   \n",
       "222    BODI PROD  aCLL GO39902 Study Dashboard       GCHD                2   \n",
       "223    BODI PROD  aCLL GO39902 Study Dashboard      GCHDC                1   \n",
       "224    BODI PROD  aCLL GO39902 Study Dashboard      GCHDI                1   \n",
       "225    BODI PROD  aCLL GO39902 Study Dashboard     GCHDIL                1   \n",
       "\n",
       "    Number of View Events  Min. Days Since Action  \n",
       "221                     1                     273  \n",
       "222                     4                      66  \n",
       "223                     4                      31  \n",
       "224                    17                      36  \n",
       "225                     1                     227  "
      ]
     },
     "execution_count": 139,
     "metadata": {},
     "output_type": "execute_result"
    }
   ],
   "source": [
    "# Data Exploration\n",
    "\n",
    "BODI_PROD_usage_data.head()"
   ]
  },
  {
   "cell_type": "code",
   "execution_count": 140,
   "metadata": {},
   "outputs": [
    {
     "data": {
      "text/plain": [
       "115"
      ]
     },
     "execution_count": 140,
     "metadata": {},
     "output_type": "execute_result"
    }
   ],
   "source": [
    "# Data Exploration\n",
    "\n",
    "BODI_PROD_usage_data['Workbook Name'].unique()\n",
    "len(BODI_PROD_usage_data['Workbook Name'].unique())"
   ]
  },
  {
   "cell_type": "code",
   "execution_count": 141,
   "metadata": {
    "scrolled": true
   },
   "outputs": [],
   "source": [
    "# Data Exploration\n",
    "\n",
    "BODI_PROD_top_usage = BODI_PROD_usage_data.sort_values(by='Number of View Events', ascending=False)\n",
    "\n",
    "# BODI_PROD_top_usage"
   ]
  },
  {
   "cell_type": "code",
   "execution_count": 142,
   "metadata": {},
   "outputs": [],
   "source": [
    "# Data Preperation\n",
    "\n",
    "BODI_PROD_top_usage[\"Number of Users\"] = pd.to_numeric(BODI_PROD_top_usage[\"Number of Users\"])\n",
    "BODI_PROD_top_usage[\"Number of View Events\"] = pd.to_numeric(BODI_PROD_top_usage[\"Number of View Events\"])\n",
    "BODI_PROD_top_usage[\"Min. Days Since Action\"] = pd.to_numeric(BODI_PROD_top_usage[\"Min. Days Since Action\"])"
   ]
  },
  {
   "cell_type": "code",
   "execution_count": 56,
   "metadata": {},
   "outputs": [],
   "source": [
    "# Data Exploration\n",
    "\n",
    "BODI_PROD_top10 = BODI_PROD_top_usage.nlargest(10,'Number of View Events')\n",
    "# BODI_PROD_top10"
   ]
  },
  {
   "cell_type": "code",
   "execution_count": 55,
   "metadata": {},
   "outputs": [],
   "source": [
    "# Data Exploration\n",
    "\n",
    "BODI_PROD_top30 = BODI_PROD_top_usage.nlargest(30,'Number of View Events')\n",
    "# BODI_PROD_top30"
   ]
  },
  {
   "cell_type": "code",
   "execution_count": 53,
   "metadata": {},
   "outputs": [],
   "source": [
    "# Data Exploration\n",
    "\n",
    "BODI_PROD_top50 = BODI_PROD_top_usage.nlargest(50,'Number of View Events')\n",
    "# BODI_PROD_top50"
   ]
  },
  {
   "cell_type": "code",
   "execution_count": 144,
   "metadata": {},
   "outputs": [
    {
     "data": {
      "text/html": [
       "<div>\n",
       "<style scoped>\n",
       "    .dataframe tbody tr th:only-of-type {\n",
       "        vertical-align: middle;\n",
       "    }\n",
       "\n",
       "    .dataframe tbody tr th {\n",
       "        vertical-align: top;\n",
       "    }\n",
       "\n",
       "    .dataframe thead tr th {\n",
       "        text-align: left;\n",
       "    }\n",
       "\n",
       "    .dataframe thead tr:last-of-type th {\n",
       "        text-align: right;\n",
       "    }\n",
       "</style>\n",
       "<table border=\"1\" class=\"dataframe\">\n",
       "  <thead>\n",
       "    <tr>\n",
       "      <th></th>\n",
       "      <th>Number of View Events</th>\n",
       "    </tr>\n",
       "    <tr>\n",
       "      <th></th>\n",
       "      <th>sum</th>\n",
       "    </tr>\n",
       "    <tr>\n",
       "      <th>Workbook Name</th>\n",
       "      <th></th>\n",
       "    </tr>\n",
       "  </thead>\n",
       "  <tbody>\n",
       "    <tr>\n",
       "      <th>Alectinib BO40336 Study Dashboard</th>\n",
       "      <td>31</td>\n",
       "    </tr>\n",
       "    <tr>\n",
       "      <th>Anti-BCMA/CD16A GO41582 Study Dashboard</th>\n",
       "      <td>52</td>\n",
       "    </tr>\n",
       "    <tr>\n",
       "      <th>Anti-CD20 GO29781 Study Dashboard</th>\n",
       "      <td>32</td>\n",
       "    </tr>\n",
       "    <tr>\n",
       "      <th>Anti-FcRH5 CD3 GO39775 Study Dashboard</th>\n",
       "      <td>40</td>\n",
       "    </tr>\n",
       "    <tr>\n",
       "      <th>Anti-FcRH5 CD3 GO39775 Study Dashboard</th>\n",
       "      <td>10</td>\n",
       "    </tr>\n",
       "    <tr>\n",
       "      <th>...</th>\n",
       "      <td>...</td>\n",
       "    </tr>\n",
       "    <tr>\n",
       "      <th>ZELBORAF CO39262 Study Dashboard</th>\n",
       "      <td>13</td>\n",
       "    </tr>\n",
       "    <tr>\n",
       "      <th>aCLL GO39902 Study Dashboard</th>\n",
       "      <td>37</td>\n",
       "    </tr>\n",
       "    <tr>\n",
       "      <th>draft_NP30179 Biomarker Dashboard</th>\n",
       "      <td>3</td>\n",
       "    </tr>\n",
       "    <tr>\n",
       "      <th>fmi-dbi</th>\n",
       "      <td>18</td>\n",
       "    </tr>\n",
       "    <tr>\n",
       "      <th>ipatasertib CO41101 Study Dashboard</th>\n",
       "      <td>28</td>\n",
       "    </tr>\n",
       "  </tbody>\n",
       "</table>\n",
       "<p>115 rows × 1 columns</p>\n",
       "</div>"
      ],
      "text/plain": [
       "                                        Number of View Events\n",
       "                                                          sum\n",
       "Workbook Name                                                \n",
       "Alectinib BO40336 Study Dashboard                          31\n",
       "Anti-BCMA/CD16A GO41582 Study Dashboard                    52\n",
       "Anti-CD20 GO29781 Study Dashboard                          32\n",
       "Anti-FcRH5 CD3 GO39775 Study Dashboard                     40\n",
       "Anti-FcRH5 CD3 GO39775 Study Dashboard                     10\n",
       "...                                                       ...\n",
       "ZELBORAF CO39262 Study Dashboard                           13\n",
       "aCLL GO39902 Study Dashboard                               37\n",
       "draft_NP30179 Biomarker Dashboard                           3\n",
       "fmi-dbi                                                    18\n",
       "ipatasertib CO41101 Study Dashboard                        28\n",
       "\n",
       "[115 rows x 1 columns]"
      ]
     },
     "execution_count": 144,
     "metadata": {},
     "output_type": "execute_result"
    }
   ],
   "source": [
    "# Data Preperation\n",
    "\n",
    "top50 = BODI_PROD_top_usage.groupby('Workbook Name').agg({'Number of View Events': ['sum']})\n",
    "\n",
    "top50"
   ]
  },
  {
   "cell_type": "code",
   "execution_count": 117,
   "metadata": {},
   "outputs": [
    {
     "name": "stdout",
     "output_type": "stream",
     "text": [
      "('Number of View Events', 'sum')\n"
     ]
    }
   ],
   "source": [
    "# Data Exploration\n",
    "\n",
    "for col in top50.columns:\n",
    "    print(col)"
   ]
  },
  {
   "cell_type": "code",
   "execution_count": 126,
   "metadata": {},
   "outputs": [
    {
     "data": {
      "text/plain": [
       "Number of View Events  sum    int64\n",
       "dtype: object"
      ]
     },
     "execution_count": 126,
     "metadata": {},
     "output_type": "execute_result"
    }
   ],
   "source": [
    "# Data Exploration\n",
    "\n",
    "top50.dtypes"
   ]
  },
  {
   "cell_type": "code",
   "execution_count": 150,
   "metadata": {},
   "outputs": [
    {
     "data": {
      "text/plain": [
       "Project Name              object\n",
       "Workbook Name             object\n",
       "DEPARTMENT                object\n",
       "Number of Users            int64\n",
       "Number of View Events      int64\n",
       "Min. Days Since Action     int64\n",
       "dtype: object"
      ]
     },
     "execution_count": 150,
     "metadata": {},
     "output_type": "execute_result"
    }
   ],
   "source": [
    "# Data Exploration\n",
    "\n",
    "BODI_PROD_top50.dtypes"
   ]
  },
  {
   "cell_type": "code",
   "execution_count": 151,
   "metadata": {},
   "outputs": [],
   "source": [
    "# to csv\n",
    "top50.to_csv('top50.csv')"
   ]
  }
 ],
 "metadata": {
  "kernelspec": {
   "display_name": "Python 3",
   "language": "python",
   "name": "python3"
  },
  "language_info": {
   "codemirror_mode": {
    "name": "ipython",
    "version": 3
   },
   "file_extension": ".py",
   "mimetype": "text/x-python",
   "name": "python",
   "nbconvert_exporter": "python",
   "pygments_lexer": "ipython3",
   "version": "3.8.3"
  }
 },
 "nbformat": 4,
 "nbformat_minor": 4
}
