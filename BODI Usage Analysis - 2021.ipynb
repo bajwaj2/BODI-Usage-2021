{
 "cells": [
  {
   "cell_type": "markdown",
   "metadata": {},
   "source": [
    "# BODI Usage Analysis - October 17, 2021\n",
    "\n",
    "#### Analysis Dates - January 2021-October 2021\n",
    "#### Analysis includes - dashboard activity/frequency, cross reference with May 2021 responses and identify stakeholders."
   ]
  },
  {
   "cell_type": "code",
   "execution_count": 35,
   "metadata": {},
   "outputs": [],
   "source": [
    "# Dependencies\n",
    "import pandas as pd"
   ]
  },
  {
   "cell_type": "markdown",
   "metadata": {},
   "source": [
    "Read data from https://tabnala.roche.com/#/views/WorkbookUsageReport-extractdatasource/AccessViewListing. Download a csv by navigating to the top right corner clicking on \"Download\" then \"Crosstab\"."
   ]
  },
  {
   "cell_type": "code",
   "execution_count": 36,
   "metadata": {},
   "outputs": [],
   "source": [
    "# Data Preperation - upload usage data\n",
    "\n",
    "usage_file = \"C:/Users/bajwaj2/Desktop/usage_stats_01012021_10312021.csv\"\n",
    "usage_df = pd.read_csv(usage_file)\n",
    "\n",
    "# usage_df.head()"
   ]
  },
  {
   "cell_type": "markdown",
   "metadata": {},
   "source": [
    "Filter for only \"BODI PROD\" in the \"Project Name\" column. "
   ]
  },
  {
   "cell_type": "code",
   "execution_count": 37,
   "metadata": {},
   "outputs": [],
   "source": [
    "# Data Preperation - filter for \"BODI PROD\"\n",
    "\n",
    "BODI_PROD_usage_data = usage_df.loc[usage_df[\"Project Name\"] == \"BODI PROD\"]\n",
    "# len(BODI_PROD_usage_data)\n",
    "# len(BODI_PROD_usage_data['Workbook Name'].unique())"
   ]
  },
  {
   "cell_type": "markdown",
   "metadata": {},
   "source": [
    "*There are 622 rows for the project \"BODI PROD.\" There are a 115 unquie workbook names in this analysis.*"
   ]
  },
  {
   "cell_type": "markdown",
   "metadata": {},
   "source": [
    "Sort by number of view events (desecnding) and convert the three columns with numerical values to numeric using pandas:"
   ]
  },
  {
   "cell_type": "code",
   "execution_count": 38,
   "metadata": {},
   "outputs": [],
   "source": [
    "# Data Preperation - sort values from highest to lowest (you have to do this in order to convert to numeric, not sure why there is room for improvement here)\n",
    "\n",
    "BODI_PROD_usage_data = BODI_PROD_usage_data.sort_values(by='Number of View Events', ascending=False)"
   ]
  },
  {
   "cell_type": "code",
   "execution_count": 39,
   "metadata": {},
   "outputs": [],
   "source": [
    "# Data Preperation - to numeric \n",
    "\n",
    "BODI_PROD_usage_data[\"Number of Users\"] = pd.to_numeric(BODI_PROD_usage_data[\"Number of Users\"])\n",
    "BODI_PROD_usage_data[\"Number of View Events\"] = pd.to_numeric(BODI_PROD_usage_data[\"Number of View Events\"])\n",
    "BODI_PROD_usage_data[\"Min. Days Since Action\"] = pd.to_numeric(BODI_PROD_usage_data[\"Min. Days Since Action\"])"
   ]
  },
  {
   "cell_type": "markdown",
   "metadata": {},
   "source": [
    "### Dashboard Activity/Frequency"
   ]
  },
  {
   "cell_type": "markdown",
   "metadata": {},
   "source": [
    "Create new dataframe with the total \"Number of View Events\" and \"Number of Users\" for each \"Workbook Name\":"
   ]
  },
  {
   "cell_type": "code",
   "execution_count": 40,
   "metadata": {},
   "outputs": [],
   "source": [
    "# Data Preperation - new df with total sum of views for each dashboard\n",
    "\n",
    "usage_total = BODI_PROD_usage_data.groupby(['Workbook Name'], as_index=False).agg({'Number of View Events': ['sum'], 'Number of Users': ['sum']})"
   ]
  },
  {
   "cell_type": "markdown",
   "metadata": {},
   "source": [
    "Upload to desktop as csv to share:"
   ]
  },
  {
   "cell_type": "code",
   "execution_count": 41,
   "metadata": {},
   "outputs": [],
   "source": [
    "# Data Preperation - to csv\n",
    "# usage_total.to_csv('usage_total.csv')"
   ]
  },
  {
   "cell_type": "markdown",
   "metadata": {},
   "source": [
    "### Cross Reference with May 2021 Responses"
   ]
  },
  {
   "cell_type": "markdown",
   "metadata": {},
   "source": [
    "Read data from May Responses 2021"
   ]
  },
  {
   "cell_type": "code",
   "execution_count": 42,
   "metadata": {},
   "outputs": [],
   "source": [
    "# Data Preperation - upload May responses\n",
    "\n",
    "may2021_reponses_file = \"C:/Users/bajwaj2/Desktop/BODI Dashboard Usage Record Responses.csv\"\n",
    "\n",
    "may2021_reponses_data = pd.read_csv(may2021_reponses_file)\n",
    "\n",
    "# may2021_reponses_data.head()"
   ]
  },
  {
   "cell_type": "code",
   "execution_count": null,
   "metadata": {},
   "outputs": [],
   "source": []
  }
 ],
 "metadata": {
  "kernelspec": {
   "display_name": "Python 3",
   "language": "python",
   "name": "python3"
  },
  "language_info": {
   "codemirror_mode": {
    "name": "ipython",
    "version": 3
   },
   "file_extension": ".py",
   "mimetype": "text/x-python",
   "name": "python",
   "nbconvert_exporter": "python",
   "pygments_lexer": "ipython3",
   "version": "3.8.3"
  }
 },
 "nbformat": 4,
 "nbformat_minor": 4
}
